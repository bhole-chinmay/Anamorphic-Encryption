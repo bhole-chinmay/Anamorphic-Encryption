{
  "nbformat": 4,
  "nbformat_minor": 0,
  "metadata": {
    "colab": {
      "provenance": []
    },
    "kernelspec": {
      "name": "python3",
      "display_name": "Python 3"
    },
    "language_info": {
      "name": "python"
    }
  },
  "cells": [
    {
      "cell_type": "code",
      "source": [
        "import random\n",
        "from hashlib import sha256\n",
        "\n",
        "p = 6\n",
        "g = 2\n",
        "\n",
        "# Secret keys\n",
        "x_official = random.randint(2, p - 2)\n",
        "x_hidden = random.randint(2, p - 2)\n",
        "\n",
        "# Public key generated once\n",
        "private_r = random.randint(2, p - 2)\n",
        "public_key = pow(g, private_r, p)\n",
        "\n",
        "def derive_key(shared_secret):\n",
        "    return sha256(str(shared_secret).encode()).digest()\n",
        "\n",
        "def xor_encrypt(msg: bytes, key: bytes):\n",
        "    return bytes([m ^ k for m, k in zip(msg, key)])\n",
        "\n",
        "def encrypt(message_official: str, message_hidden: str):\n",
        "    # Combine messages separated by '|'\n",
        "    combined = message_official + \"|\" + message_hidden\n",
        "    combined_bytes = combined.encode()\n",
        "\n",
        "    # Ephemeral key\n",
        "    r = random.randint(2, p - 2)\n",
        "    c1 = pow(g, r, p)\n",
        "\n",
        "    # Shared secret: g^(r * private_r) mod p\n",
        "    shared_secret = pow(public_key, r, p)\n",
        "    key = derive_key(shared_secret)\n",
        "\n",
        "    # Ensure key is long enough\n",
        "    key = (key * ((len(combined_bytes) // len(key)) + 1))[:len(combined_bytes)]\n",
        "\n",
        "    ciphertext = xor_encrypt(combined_bytes, key)\n",
        "\n",
        "    return {\n",
        "        'c1': c1,\n",
        "        'ciphertext': ciphertext\n",
        "    }\n",
        "\n",
        "def derive_shared_secret(c1, x):\n",
        "    return pow(c1, x, p)\n",
        "\n",
        "def decrypt(cipher, x):\n",
        "    shared_secret = derive_shared_secret(cipher['c1'], x)\n",
        "    key = derive_key(shared_secret)\n",
        "\n",
        "    ciphertext = cipher['ciphertext']\n",
        "    key = (key * ((len(ciphertext) // len(key)) + 1))[:len(ciphertext)]\n",
        "\n",
        "    decrypted_bytes = xor_encrypt(ciphertext, key)\n",
        "    decrypted_text = decrypted_bytes.decode(errors='ignore')  # ignore decode errors\n",
        "\n",
        "    # Extract messages\n",
        "    parts = decrypted_text.split('|')\n",
        "    if len(parts) == 2:\n",
        "        # Official key expects first part\n",
        "        if x == x_official:\n",
        "            return parts[0].strip()\n",
        "        # Hidden key expects second part\n",
        "        elif x == x_hidden:\n",
        "            return parts[1].strip()\n",
        "    return decrypted_text\n",
        "\n",
        "# Demo\n",
        "message_official = \"hail hitler\"\n",
        "message_hidden = \"kill hitler\"\n",
        "\n",
        "cipher = encrypt(message_official, message_hidden)\n",
        "\n",
        "print(\"Ciphertext:\", cipher['ciphertext'])\n",
        "print(\"\\nOfficial Receiver Decrypts:\")\n",
        "print(decrypt(cipher, x_official))\n",
        "print(\"\\nHidden Receiver Decrypts:\")\n",
        "print(decrypt(cipher, x_hidden))"
      ],
      "metadata": {
        "colab": {
          "base_uri": "https://localhost:8080/"
        },
        "id": "l0ZJASw0Oa9Q",
        "outputId": "3ea8dc80-17cb-4426-ff0d-ddeee95d3137"
      },
      "execution_count": 34,
      "outputs": [
        {
          "output_type": "stream",
          "name": "stdout",
          "text": [
            "Ciphertext: b'#C\\x1e\\x1b\\xf4\\xb5v\\xb2p\\n\\xfa3#\\rqn\\x94\\xb9H\\xa7\\x91W\\xfe'\n",
            "\n",
            "Official Receiver Decrypts:\n",
            "hail hitler\n",
            "\n",
            "Hidden Receiver Decrypts:\n",
            "kill hitler\n"
          ]
        }
      ]
    }
  ]
}